{
 "cells": [
  {
   "cell_type": "markdown",
   "id": "26fd36a7",
   "metadata": {},
   "source": [
    "# Tip Calculator"
   ]
  },
  {
   "cell_type": "code",
   "execution_count": 33,
   "id": "5303dc03",
   "metadata": {},
   "outputs": [
    {
     "name": "stdout",
     "output_type": "stream",
     "text": [
      "Welcome to the Tip Calculator.\n"
     ]
    }
   ],
   "source": [
    "print(\"Welcome to the Tip Calculator.\")"
   ]
  },
  {
   "cell_type": "code",
   "execution_count": 34,
   "id": "2b946b66",
   "metadata": {
    "scrolled": true
   },
   "outputs": [
    {
     "name": "stdout",
     "output_type": "stream",
     "text": [
      "Enter your bill.\n",
      "$100\n"
     ]
    }
   ],
   "source": [
    "bill= float(input(\"Enter your bill.\\n$\"))"
   ]
  },
  {
   "cell_type": "code",
   "execution_count": 35,
   "id": "5c8f5dd1",
   "metadata": {},
   "outputs": [
    {
     "name": "stdout",
     "output_type": "stream",
     "text": [
      "What percentage of bill would you like to tip?\n",
      "12\n"
     ]
    }
   ],
   "source": [
    "tip_percentage= float(input(\"What percentage of bill would you like to tip?\\n\"))\n",
    "tip = (tip_percentage* bill)/100"
   ]
  },
  {
   "cell_type": "code",
   "execution_count": 37,
   "id": "00d942fc",
   "metadata": {},
   "outputs": [
    {
     "name": "stdout",
     "output_type": "stream",
     "text": [
      "How many people to split the bill?\n",
      "10\n"
     ]
    }
   ],
   "source": [
    "people= int(input(\"How many people to split the bill?\\n\"))\n",
    "bill_per_person= (bill+tip)/people"
   ]
  },
  {
   "cell_type": "code",
   "execution_count": 41,
   "id": "d3ba4168",
   "metadata": {},
   "outputs": [
    {
     "name": "stdout",
     "output_type": "stream",
     "text": [
      "Each person should pay $11.20\n"
     ]
    }
   ],
   "source": [
    "print(\"Each person should pay $%0.2f\"%(bill_per_person))"
   ]
  }
 ],
 "metadata": {
  "kernelspec": {
   "display_name": "Python 3 (ipykernel)",
   "language": "python",
   "name": "python3"
  },
  "language_info": {
   "codemirror_mode": {
    "name": "ipython",
    "version": 3
   },
   "file_extension": ".py",
   "mimetype": "text/x-python",
   "name": "python",
   "nbconvert_exporter": "python",
   "pygments_lexer": "ipython3",
   "version": "3.9.7"
  }
 },
 "nbformat": 4,
 "nbformat_minor": 5
}
